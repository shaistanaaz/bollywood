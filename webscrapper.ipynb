{
 "cells": [
  {
   "cell_type": "code",
   "execution_count": 4,
   "metadata": {},
   "outputs": [
    {
     "name": "stdout",
     "output_type": "stream",
     "text": [
      "Requirement already satisfied: BeautifulSoup4 in c:\\users\\tausif\\appdata\\local\\programs\\python\\python36\\lib\\site-packages (4.9.0)\n",
      "Requirement already satisfied: soupsieve>1.2 in c:\\users\\tausif\\appdata\\local\\programs\\python\\python36\\lib\\site-packages (from BeautifulSoup4) (2.0)\n",
      "Note: you may need to restart the kernel to use updated packages.\n"
     ]
    }
   ],
   "source": [
    "pip install BeautifulSoup4\n"
   ]
  },
  {
   "cell_type": "code",
   "execution_count": 5,
   "metadata": {},
   "outputs": [],
   "source": [
    "\n",
    "from bs4 import BeautifulSoup\n"
   ]
  },
  {
   "cell_type": "code",
   "execution_count": 145,
   "metadata": {},
   "outputs": [],
   "source": [
    "\n",
    "import csv\n",
    "import re\n",
    "import pandas as pd\n",
    "import requests\n",
    "import urllib.request\n",
    "url=\"https://www.bollywoodlife.com/celeb/\"\n",
    "response=requests.get(url)\n",
    "soup=BeautifulSoup(response.content,\"html.parser\")\n",
    "#print(soup.prettify())\n",
    "#opening a csv file for writing\n",
    "outfile = open(output.csv\",\"w\",newline='')\n",
    "writer = csv.writer(outfile)\n",
    "\n",
    "#data storage\n",
    "celebnames=[]\n",
    "celebpics=[]\n",
    "\n",
    "\n",
    "\n",
    "#celebrity names extracted    \n",
    "names=soup.find_all(\"figcaption\")\n",
    "for name in names:\n",
    "    for x in name.find_all(\"h3\"):\n",
    "        for y in x.find_all(\"a\"):\n",
    "            celebname=y.text\n",
    "            celebnames.append(celebname)\n",
    "#print(len(celebnames))\n",
    "            \n",
    "#celebrity pics link extracted\n",
    "images=soup.find_all(\"img\",{'src':re.compile('.jpg')})\n",
    "for image in images: \n",
    "    #print(image['src']+'\\n')\n",
    "    celebpic=image['src'] \n",
    "    celebpics.append(celebpic)\n",
    "celebpics1=celebpics[1:51]\n",
    "#print(len(celebpics1))\n",
    "\n",
    "#pandas dataframe\n",
    "df=pd.DataFrame({\n",
    "'CELEBRITY':celebnames,\n",
    "'PIC':celebpics1,    \n",
    "})\n",
    "\n",
    "\n",
    "\n",
    "#save to CSV\n",
    "df.to_csv(output.csv')\n",
    "outfile.close()\n",
    "\n",
    "\n"
   ]
  },
  {
   "cell_type": "code",
   "execution_count": null,
   "metadata": {},
   "outputs": [],
   "source": []
  },
  {
   "cell_type": "code",
   "execution_count": null,
   "metadata": {},
   "outputs": [],
   "source": []
  },
  {
   "cell_type": "code",
   "execution_count": null,
   "metadata": {},
   "outputs": [],
   "source": []
  }
 ],
 "metadata": {
  "kernelspec": {
   "display_name": "Python 3",
   "language": "python",
   "name": "python3"
  },
  "language_info": {
   "codemirror_mode": {
    "name": "ipython",
    "version": 3
   },
   "file_extension": ".py",
   "mimetype": "text/x-python",
   "name": "python",
   "nbconvert_exporter": "python",
   "pygments_lexer": "ipython3",
   "version": "3.6.5"
  }
 },
 "nbformat": 4,
 "nbformat_minor": 4
}
